{
 "metadata": {
  "name": "",
  "signature": "sha256:1c23830a29afa683930abb466ddced8b5aacf8c26e6bf9e2096dd025be020ab4"
 },
 "nbformat": 3,
 "nbformat_minor": 0,
 "worksheets": [
  {
   "cells": [
    {
     "cell_type": "code",
     "collapsed": false,
     "input": [
      "print(__doc__)\n",
      "\n",
      "# Authors: Clay Woolam <clay@woolam.org>\n",
      "# Licence: BSD\n",
      "\n",
      "import numpy as np\n",
      "import matplotlib.pyplot as plt\n",
      "from sklearn import datasets\n",
      "from sklearn import svm # support vector machine\n",
      "from sklearn.semi_supervised import label_propagation # semi supervised learning"
     ],
     "language": "python",
     "metadata": {},
     "outputs": [
      {
       "output_type": "stream",
       "stream": "stdout",
       "text": [
        "Automatically created module for IPython interactive environment\n"
       ]
      }
     ],
     "prompt_number": 1
    },
    {
     "cell_type": "code",
     "collapsed": false,
     "input": [
      "# prepare data\n",
      "rng = np.random.RandomState(0)\n",
      "iris = datasets.load_iris()\n",
      "X = iris.data[:, :2] # use only the two features\n",
      "y = iris.target\n",
      "\n",
      "\n",
      "h = .02  # step size in the mesh\n",
      "\n",
      "y_30 = np.copy(y)\n",
      "y_30[rng.rand(len(y)) < 0.7] = -1\n",
      "y_50 = np.copy(y)\n",
      "y_50[rng.rand(len(y)) < 0.5] = -1\n",
      "\n",
      "\n",
      "# we create an instance of SVM and fit out data. We do not scale our\n",
      "# data since we want to plot the support vectors\n",
      "ls30 = (label_propagation.LabelSpreading().fit(X, y_30),\n",
      "        y_30)\n",
      "ls50 = (label_propagation.LabelSpreading().fit(X, y_50),\n",
      "        y_50)\n",
      "ls100 = (label_propagation.LabelSpreading().fit(X, y), y)\n",
      "# SVM\n",
      "rbf_svc = (svm.SVC(kernel='rbf').fit(X, y), y)\n",
      "\n",
      "\n",
      "# create a mesh to plot in\n",
      "x_min, x_max = X[:, 0].min() - 1, X[:, 0].max() + 1\n",
      "y_min, y_max = X[:, 1].min() - 1, X[:, 1].max() + 1\n",
      "# xx, yy: test data\n",
      "xx, yy = np.meshgrid(np.arange(x_min, x_max, h),\n",
      "                     np.arange(y_min, y_max, h))\n",
      "\n",
      "\n",
      "# title for the plots\n",
      "titles = ['Label Spreading 30% data',\n",
      "          'Label Spreading 50% data',\n",
      "          'Label Spreading 100% data',\n",
      "          'SVC with rbf kernel']\n",
      "\n",
      "color_map = {-1: (1, 1, 1), 0: (0, 0, .9), 1: (1, 0, 0), 2: (.8, .6, 0)} # -1: ublabeled data\n",
      "\n",
      "for i, (clf, y_train) in enumerate((ls30, ls50, ls100, rbf_svc)):\n",
      "    # Plot the decision boundary. For that, we will assign a color to each\n",
      "    # point in the mesh [x_min, m_max]*[y_min, y_max].\n",
      "    plt.subplot(2, 2, i + 1)\n",
      "    Z = clf.predict(np.c_[xx.ravel(), yy.ravel()])\n",
      "\n",
      "    # Put the result into a color plot\n",
      "    Z = Z.reshape(xx.shape)\n",
      "    plt.contourf(xx, yy, Z, cmap=plt.cm.Paired)\n",
      "    plt.axis('off')\n",
      "\n",
      "    # Plot also the training points\n",
      "    colors = [color_map[y] for y in y_train]\n",
      "    plt.scatter(X[:, 0], X[:, 1], c=colors, cmap=plt.cm.Paired)\n",
      "\n",
      "    plt.title(titles[i])\n",
      "\n",
      "plt.text(.90, 0, \"Unlabeled points are colored white\")\n",
      "plt.show()"
     ],
     "language": "python",
     "metadata": {},
     "outputs": [],
     "prompt_number": 14
    },
    {
     "cell_type": "code",
     "collapsed": false,
     "input": [],
     "language": "python",
     "metadata": {},
     "outputs": []
    }
   ],
   "metadata": {}
  }
 ]
}