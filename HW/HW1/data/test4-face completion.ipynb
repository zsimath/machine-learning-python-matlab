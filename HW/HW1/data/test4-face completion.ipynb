{
 "metadata": {
  "name": "",
  "signature": "sha256:9d7a71565f1f4dfc0cae899ab38718b382cd29efc6c3f44a5d87f0ba0b854c81"
 },
 "nbformat": 3,
 "nbformat_minor": 0,
 "worksheets": [
  {
   "cells": [
    {
     "cell_type": "code",
     "collapsed": false,
     "input": [
      "print(__doc__)\n",
      "\n",
      "import numpy as np\n",
      "import matplotlib.pyplot as plt\n",
      "\n",
      "from sklearn.datasets import fetch_olivetti_faces\n",
      "from sklearn.utils.validation import check_random_state\n",
      "# four different methods\n",
      "from sklearn.ensemble import ExtraTreesRegressor\n",
      "from sklearn.neighbors import KNeighborsRegressor # kNN regression\n",
      "from sklearn.linear_model import LinearRegression # linear regression\n",
      "from sklearn.linear_model import RidgeCV\n"
     ],
     "language": "python",
     "metadata": {},
     "outputs": [
      {
       "output_type": "stream",
       "stream": "stdout",
       "text": [
        "Automatically created module for IPython interactive environment\n"
       ]
      }
     ],
     "prompt_number": 42
    },
    {
     "cell_type": "code",
     "collapsed": false,
     "input": [
      "# Load the faces datasets\n",
      "data = fetch_olivetti_faces()\n",
      "targets = data.target\n",
      "\n",
      "data = data.images.reshape((len(data.images), -1))\n",
      "train = data[targets >= 6]\n",
      "test = data[targets < 6]  # Test on independent people\n",
      "\n",
      "# Test on a subset of people\n",
      "n_faces = 3\n",
      "rng = check_random_state(4)\n",
      "face_ids = rng.randint(test.shape[0], size=(n_faces, ))\n",
      "test = test[face_ids, :]\n",
      "\n",
      "n_pixels = data.shape[1]\n",
      "ids = np.random.permutation(n_pixels)\n",
      "ids1 = np.sort(ids[:n_pixels/3]) # index for training\n",
      "ids2 = np.sort(ids[n_pixels/3:]) # index for testing\n",
      "\n",
      "X_train = train[:, ids1]  # Upper half of the faces\n",
      "y_train = train[:, ids2]  # Lower half of the faces\n",
      "X_test  = test[:, ids1]\n",
      "y_test  = test[:, ids2]"
     ],
     "language": "python",
     "metadata": {},
     "outputs": []
    },
    {
     "cell_type": "code",
     "collapsed": false,
     "input": [
      "# Fit estimators\n",
      "ESTIMATORS = {\n",
      "    \"Extra trees\": ExtraTreesRegressor(n_estimators=10, max_features=32,\n",
      "                                       random_state=0),\n",
      "    \"K-nn\": KNeighborsRegressor(),\n",
      "    \"Linear regression\": LinearRegression(),\n",
      "    \"Ridge\": RidgeCV(),\n",
      "}\n",
      "\n",
      "\n",
      "\n",
      "y_test_predict = dict()\n",
      "for name, estimator in ESTIMATORS.items():\n",
      "    estimator.fit(X_train, y_train) # training\n",
      "    y_test_predict[name] = estimator.predict(X_test) # prediction\n",
      "\n",
      "    \n",
      "    \n",
      "# Plot the completed faces\n",
      "image_shape = (64, 64)\n",
      "\n",
      "n_cols = 1 + len(ESTIMATORS)\n",
      "plt.figure(figsize=(2. * n_cols, 2.26 * n_faces))\n",
      "plt.suptitle(\"Face completion with multi-output estimators\", size=16)\n",
      "\n",
      "for i in range(n_faces):\n",
      "#    true_face = np.hstack((X_test[i], y_test[i]))\n",
      "    true_face = np.zeros([n_pixels])\n",
      "    true_face[ids1] =  X_test[i]\n",
      "    true_face[ids2] = y_test[i]\n",
      "    \n",
      "    if i:\n",
      "        sub = plt.subplot(n_faces, n_cols, i * n_cols + 1)\n",
      "    else:\n",
      "        sub = plt.subplot(n_faces, n_cols, i * n_cols + 1,\n",
      "                          title=\"true faces\")\n",
      "\n",
      "\n",
      "    sub.axis(\"off\")\n",
      "    sub.imshow(true_face.reshape(image_shape),\n",
      "               cmap=plt.cm.gray,\n",
      "               interpolation=\"nearest\")\n",
      "\n",
      "    for j, est in enumerate(sorted(ESTIMATORS)):\n",
      "        # np.hstack: concatenate array horizontally\n",
      "#        completed_face = np.hstack((X_test[i], y_test_predict[est][i])) \n",
      "        completed_face = np.zeros([n_pixels])\n",
      "        completed_face[ids1] =  X_test[i]\n",
      "        completed_face[ids2] =  y_test_predict[est][i]        \n",
      "        \n",
      "        if i:\n",
      "            sub = plt.subplot(n_faces, n_cols, i * n_cols + 2 + j)\n",
      "\n",
      "        else:\n",
      "            sub = plt.subplot(n_faces, n_cols, i * n_cols + 2 + j,\n",
      "                              title=est)\n",
      "\n",
      "        sub.axis(\"off\")\n",
      "        sub.imshow(completed_face.reshape(image_shape),\n",
      "                   cmap=plt.cm.gray,\n",
      "                   interpolation=\"nearest\")\n",
      "\n",
      "plt.show()"
     ],
     "language": "python",
     "metadata": {},
     "outputs": []
    },
    {
     "cell_type": "code",
     "collapsed": false,
     "input": [],
     "language": "python",
     "metadata": {},
     "outputs": []
    }
   ],
   "metadata": {}
  }
 ]
}