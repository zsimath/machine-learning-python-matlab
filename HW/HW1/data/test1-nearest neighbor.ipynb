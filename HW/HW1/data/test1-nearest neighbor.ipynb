{
 "metadata": {
  "name": "",
  "signature": "sha256:5c3878d4aba27bde914a23258b1dbad6f62d07e7c6993de7fb9a4db38b6b601a"
 },
 "nbformat": 3,
 "nbformat_minor": 0,
 "worksheets": [
  {
   "cells": [
    {
     "cell_type": "code",
     "collapsed": false,
     "input": [
      "%doctest_mode\n",
      "from sklearn.neighbors import NearestNeighbors\n",
      "import numpy as np"
     ],
     "language": "python",
     "metadata": {},
     "outputs": [
      {
       "output_type": "stream",
       "stream": "stdout",
       "text": [
        "Exception reporting mode: Plain\n",
        "Doctest mode is: ON\n"
       ]
      }
     ],
     "prompt_number": 1
    },
    {
     "cell_type": "code",
     "collapsed": false,
     "input": [
      "X = np.array([[-1, -1], [-2, -1], [-3, -2], [1, 1], [2, 1], [3, 2]])\n",
      "\n",
      "nbrs = NearestNeighbors(n_neighbors=2, algorithm='ball_tree').fit(X)\n",
      "distances, indices = nbrs.kneighbors(X)"
     ],
     "language": "python",
     "metadata": {},
     "outputs": [],
     "prompt_number": 6
    },
    {
     "cell_type": "code",
     "collapsed": false,
     "input": [
      "indices"
     ],
     "language": "python",
     "metadata": {},
     "outputs": [
      {
       "metadata": {},
       "output_type": "pyout",
       "prompt_number": 7,
       "text": [
        "array([[0, 1],\n",
        "       [1, 0],\n",
        "       [2, 1],\n",
        "       [3, 4],\n",
        "       [4, 3],\n",
        "       [5, 4]])"
       ]
      }
     ],
     "prompt_number": 7
    },
    {
     "cell_type": "code",
     "collapsed": false,
     "input": [
      "distances"
     ],
     "language": "python",
     "metadata": {},
     "outputs": [
      {
       "metadata": {},
       "output_type": "pyout",
       "prompt_number": 8,
       "text": [
        "array([[ 0.        ,  1.        ],\n",
        "       [ 0.        ,  1.        ],\n",
        "       [ 0.        ,  1.41421356],\n",
        "       [ 0.        ,  1.        ],\n",
        "       [ 0.        ,  1.        ],\n",
        "       [ 0.        ,  1.41421356]])"
       ]
      }
     ],
     "prompt_number": 8
    },
    {
     "cell_type": "code",
     "collapsed": false,
     "input": [
      "nbrs.kneighbors_graph(X).toarray()"
     ],
     "language": "python",
     "metadata": {},
     "outputs": [
      {
       "metadata": {},
       "output_type": "pyout",
       "prompt_number": 9,
       "text": [
        "array([[ 1.,  1.,  0.,  0.,  0.,  0.],\n",
        "       [ 1.,  1.,  0.,  0.,  0.,  0.],\n",
        "       [ 0.,  1.,  1.,  0.,  0.,  0.],\n",
        "       [ 0.,  0.,  0.,  1.,  1.,  0.],\n",
        "       [ 0.,  0.,  0.,  1.,  1.,  0.],\n",
        "       [ 0.,  0.,  0.,  0.,  1.,  1.]])"
       ]
      }
     ],
     "prompt_number": 9
    },
    {
     "cell_type": "code",
     "collapsed": false,
     "input": [],
     "language": "python",
     "metadata": {},
     "outputs": []
    }
   ],
   "metadata": {}
  }
 ]
}